import json
import random
from datetime import datetime, timedelta
from transformers import pipeline

# Define your keywords, topics, job titles, and question templates
KEYWORDS = [
    'AI', 'blockchain', 'big data', 'machine learning', 'data science', 'cloud computing',
    'cybersecurity', 'IoT', '5G', 'quantum computing', 'virtual reality', 'augmented reality',
    'automated systems', 'natural language processing', 'robotics', 'smart devices', 'digital marketing',
    'e-commerce', 'fintech', 'health tech', 'edtech', 'supply chain management', 'logistics',
    'artificial intelligence', 'deep learning', 'predictive analytics', 'edge computing', 'bioinformatics',
    'digital transformation', 'enterprise software', 'internet security', 'regtech', 'telemedicine',
    'privacy', 'machine vision', 'deepfake detection', 'generative models', 'AI ethics', 'blockchain scalability',
    'smart contracts', 'cryptocurrency', 'financial modeling', 'investment analytics', 'telecommunications',
    'user experience design', 'personalization', 'data mining', 'software architecture', 'agile methodologies',
    'strategy', 'innovation'
]

TOPICS = [
    'customer experience', 'market trends', 'product development', 'operational efficiency',
    'risk management', 'data privacy', 'technology adoption', 'strategic planning', 'innovation',
    'team collaboration', 'financial performance', 'competitive analysis', 'user engagement',
    'sustainability', 'scalability', 'cost reduction', 'productivity improvement',
    'regulatory compliance', 'digital strategy', 'user interface design', 'supply chain optimization',
    'digital payment systems', 'global market expansion', 'business intelligence', 'real-time data analysis',
    'ethical AI practices', 'cyber threat detection', 'customer retention strategies', 'innovation management',
    'cloud migration', 'data governance', 'industry regulations', 'remote work efficiency'
]

JOB_TITLES = [
    'Data Scientist', 'Blockchain Developer', 'AI Researcher', 'Cybersecurity Analyst', 'Cloud Engineer',
    'Product Manager', 'Business Analyst', 'Software Engineer', 'UX/UI Designer', 'Systems Architect',
    'Digital Marketer', 'Project Manager', 'Operations Manager', 'Financial Analyst', 'Tech Lead',
    'Consultant', 'Strategy Advisor', 'Innovation Specialist', 'Research Scientist', 'Technical Writer',
    'DevOps Engineer', 'Systems Administrator', 'Product Designer', 'Technical Project Manager',
    'Data Engineer', 'Growth Hacker', 'Customer Success Manager', 'Compliance Officer', 'Ethical Hacker',
    'Sales Engineer', 'Artificial Intelligence Engineer', 'Machine Learning Engineer', 'Big Data Engineer',
    'Data Privacy Officer', 'Risk Analyst', 'Business Development Manager', 'Marketing Strategist',
    'CRM Specialist', 'Healthcare IT Specialist', 'E-commerce Specialist'
]

QUESTION_TEMPLATES = [
    "How does Sam utilize {keyword1} and {keyword2} to enhance {topic} in his role as a {job_title}?",
    "What methods does Sam use with {keyword1} and {keyword2} to improve {topic} as a {job_title}?",
    "In what ways does Sam apply {keyword1} and {keyword2} to address {topic} in his position as a {job_title}?",
    "How does Sam integrate {keyword1} and {keyword2} into {topic} as a {job_title}?",
    "What impact does Sam's expertise in {keyword1} and {keyword2} have on {topic} in his role as a {job_title}?",
    "How does Sam leverage {keyword1} and {keyword2} for {topic} in his position as a {job_title}?",
    "What innovative strategies does Sam employ with {keyword1} and {keyword2} to advance {topic} as a {job_title}?",
    "In which areas does Sam's use of {keyword1} and {keyword2} lead to improvements in {topic} as a {job_title}?",
    "How does Sam's integration of {keyword1} and {keyword2} impact {topic} in his role as a {job_title}?",
    "What role do {keyword1} and {keyword2} play in enhancing {topic} for Sam as a {job_title}?"
]

# Load the GPT model using the Hugging Face pipeline
generator = pipeline('text-generation', model='t5-small')

def generate_answer_with_gpt(question):
    # Use the GPT model to generate an answer
    response = generator(question, max_length=150, num_return_sequences=1)
    return response[0]['generated_text']

def generate_entry(index):
    keyword1, keyword2 = random.sample(KEYWORDS, 2)
    topic = random.choice(TOPICS)
    job_title = random.choice(JOB_TITLES)

    question = random.choice(QUESTION_TEMPLATES).format(
        keyword1=keyword1,
        keyword2=keyword2,
        topic=topic,
        job_title=job_title
    )
    
    # Generate an answer using GPT
    answer = generate_answer_with_gpt(question)
    
    timestamp = (datetime(2024, 1, 1) + timedelta(days=index)).isoformat()
    return {
        "content": f"Question: {question} Answer: {answer}",
        "meta": {
            "timestamp": timestamp
        }
    }

def generate_entries(num_entries):
    return [generate_entry(i) for i in range(num_entries)]

def main():
    num_entries = 1000  # Number of entries to generate
    entries = generate_entries(num_entries)
    with open('sam.json', 'w') as file:
        json.dump(entries, file, indent=4)
    print(f"Successfully generated {num_entries} entries and saved to 'sam.json'.")

if __name__ == "__main__":
    main()
